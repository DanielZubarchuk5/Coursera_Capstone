{
 "cells": [
  {
   "cell_type": "markdown",
   "metadata": {},
   "source": [
    "# Description of Problem and Discussion of the Background "
   ]
  },
  {
   "cell_type": "markdown",
   "metadata": {},
   "source": [
    "#### Introduction:"
   ]
  },
  {
   "cell_type": "markdown",
   "metadata": {},
   "source": [
    "The purpose is to help people in finding better locations in and around their neighborhood. People can make a logical and smart decision on selecting the perfect neighborhood for their needs in Scarborough, Toronto.\n",
    "\n",
    "Lots of people are moving to Canada and needed lots of research for good housing prices and reputated schools for their children. This is for people who are looking for better neighborhoods. Most importantly trying to see the ease of access of various entities such as cafes, schools, parks, super markets, grocery shops, malls, theatres, and hospitals.\n",
    "\n",
    "We will create an analysis of features of Scarborough in comparison to other neighborhoods. The features include median housing price and better school according to ratings, crime rates of that particular area, road connectivity, weather conditions, good management for emergency, water resources both freash and waste water and excrement conveyed in sewers and recreational facilities.\n"
   ]
  },
  {
   "cell_type": "markdown",
   "metadata": {},
   "source": [
    "#### Problem and Reasoning:"
   ]
  },
  {
   "cell_type": "markdown",
   "metadata": {},
   "source": [
    "The problem that we are trying to address is to provide a better option for a new neighborhood for an individual to move into. We will consider all things, such as: distace to city center, airport, markets, and other neeeds. \n",
    "\n",
    "My childhood best friend moved to Scarborough when I was younger. He told me that he really loved it there even though he missed New York City. Housing in Scarborough is cheaper and you don't really need a car to reside there. There is a lot of green space. Scarborough has been growing lately, with an influx of immigrants coming there. "
   ]
  },
  {
   "cell_type": "markdown",
   "metadata": {},
   "source": [
    "#### Tools to be Used:"
   ]
  },
  {
   "cell_type": "markdown",
   "metadata": {},
   "source": [
    "We will use the <b>Four-square API</b> becuase it acts as a database for various locations, especially their API which provides the ability to perform location search and details about businesses.\n",
    "\n",
    "<b>Python Libraries</b><br>\n",
    "Geocoder<br>\n",
    "Pandas<br>\n",
    "Matplotlib<br>\n",
    "Folium<br>\n",
    "Scikit Learn<br>\n",
    "JSON<br>\n",
    "XML<br>\n",
    "Beautiful Soup and Requests<br>\n"
   ]
  },
  {
   "cell_type": "code",
   "execution_count": null,
   "metadata": {},
   "outputs": [],
   "source": []
  }
 ],
 "metadata": {
  "kernelspec": {
   "display_name": "Python 3",
   "language": "python",
   "name": "python3"
  },
  "language_info": {
   "codemirror_mode": {
    "name": "ipython",
    "version": 3
   },
   "file_extension": ".py",
   "mimetype": "text/x-python",
   "name": "python",
   "nbconvert_exporter": "python",
   "pygments_lexer": "ipython3",
   "version": "3.8.3"
  }
 },
 "nbformat": 4,
 "nbformat_minor": 4
}
